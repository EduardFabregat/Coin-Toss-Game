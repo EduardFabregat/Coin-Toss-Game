{
 "cells": [
  {
   "cell_type": "code",
   "execution_count": 2,
   "metadata": {},
   "outputs": [],
   "source": [
    "import pandas as pd\n",
    "import numpy as np"
   ]
  },
  {
   "cell_type": "code",
   "execution_count": 122,
   "metadata": {},
   "outputs": [],
   "source": [
    "def toss_coins(n):\n",
    "  sides = [ 'H', 'T' ]\n",
    "  coins = [ sides ] * n\n",
    "  return product (*coins)"
   ]
  },
  {
   "cell_type": "code",
   "execution_count": 123,
   "metadata": {},
   "outputs": [],
   "source": [
    "tosses5 = list(toss_coins(5))"
   ]
  },
  {
   "cell_type": "code",
   "execution_count": 124,
   "metadata": {},
   "outputs": [
    {
     "data": {
      "text/plain": [
       "32"
      ]
     },
     "execution_count": 124,
     "metadata": {},
     "output_type": "execute_result"
    }
   ],
   "source": [
    "len(tosses5)"
   ]
  },
  {
   "cell_type": "code",
   "execution_count": 126,
   "metadata": {},
   "outputs": [],
   "source": [
    "#heads + 1, tails * 2\n",
    "list_scores5 = []\n",
    "\n",
    "for i in range(0, len(tosses5)):\n",
    "    toss = tosses5[i]\n",
    "    score = 0\n",
    "    for j in range(0, len(toss)):\n",
    "        if toss[j] == 'H':\n",
    "            score += 1\n",
    "        else:\n",
    "            score *= 2\n",
    "    list_scores5.append(score)"
   ]
  },
  {
   "cell_type": "code",
   "execution_count": 127,
   "metadata": {},
   "outputs": [
    {
     "data": {
      "text/plain": [
       "6.59375"
      ]
     },
     "execution_count": 127,
     "metadata": {},
     "output_type": "execute_result"
    }
   ],
   "source": [
    "sum(list_scores5)/len(tosses5)"
   ]
  },
  {
   "cell_type": "code",
   "execution_count": 136,
   "metadata": {},
   "outputs": [],
   "source": [
    "tosses15 = list(toss_coins(15))"
   ]
  },
  {
   "cell_type": "code",
   "execution_count": 137,
   "metadata": {},
   "outputs": [
    {
     "data": {
      "text/plain": [
       "32768"
      ]
     },
     "execution_count": 137,
     "metadata": {},
     "output_type": "execute_result"
    }
   ],
   "source": [
    "len(tosses15)"
   ]
  },
  {
   "cell_type": "code",
   "execution_count": 138,
   "metadata": {},
   "outputs": [],
   "source": [
    "#heads + 1, tails * 2\n",
    "list_scores15 = []\n",
    "\n",
    "for i in range(0, len(tosses15)):\n",
    "    toss = tosses15[i]\n",
    "    score = 0\n",
    "    for j in range(0, len(toss)):\n",
    "        if toss[j] == 'H':\n",
    "            score += 1\n",
    "        else:\n",
    "            score *= 2\n",
    "    list_scores15.append(score)"
   ]
  },
  {
   "cell_type": "code",
   "execution_count": 139,
   "metadata": {},
   "outputs": [
    {
     "data": {
      "text/plain": [
       "436.8938903808594"
      ]
     },
     "execution_count": 139,
     "metadata": {},
     "output_type": "execute_result"
    }
   ],
   "source": [
    "sum(list_scores15)/len(tosses15)"
   ]
  },
  {
   "cell_type": "code",
   "execution_count": 141,
   "metadata": {},
   "outputs": [
    {
     "data": {
      "text/plain": [
       "655.4142845568359"
      ]
     },
     "execution_count": 141,
     "metadata": {},
     "output_type": "execute_result"
    }
   ],
   "source": [
    "np.std(list_scores15)"
   ]
  },
  {
   "cell_type": "code",
   "execution_count": 143,
   "metadata": {},
   "outputs": [
    {
     "data": {
      "text/plain": [
       "3.7902784775659955"
      ]
     },
     "execution_count": 143,
     "metadata": {},
     "output_type": "execute_result"
    }
   ],
   "source": [
    "np.std(list_scores5)"
   ]
  },
  {
   "cell_type": "code",
   "execution_count": 144,
   "metadata": {},
   "outputs": [],
   "source": [
    "tosses10 = list(toss_coins(10))"
   ]
  },
  {
   "cell_type": "code",
   "execution_count": 145,
   "metadata": {},
   "outputs": [
    {
     "data": {
      "text/plain": [
       "1024"
      ]
     },
     "execution_count": 145,
     "metadata": {},
     "output_type": "execute_result"
    }
   ],
   "source": [
    "len(tosses10)"
   ]
  },
  {
   "cell_type": "code",
   "execution_count": 146,
   "metadata": {},
   "outputs": [],
   "source": [
    "#heads + 1, tails * 2\n",
    "list_scores10 = []\n",
    "\n",
    "for i in range(0, len(tosses10)):\n",
    "    toss = tosses10[i]\n",
    "    score = 0\n",
    "    for j in range(0, len(toss)):\n",
    "        if toss[j] == 'H':\n",
    "            score += 1\n",
    "        else:\n",
    "            score *= 2\n",
    "    list_scores10.append(score)"
   ]
  },
  {
   "cell_type": "code",
   "execution_count": 170,
   "metadata": {},
   "outputs": [],
   "source": [
    "def is_power_of_two(n):\n",
    "    return (n != 0) and (n & (n-1) == 0)"
   ]
  },
  {
   "cell_type": "code",
   "execution_count": 185,
   "metadata": {},
   "outputs": [],
   "source": [
    "p2 = 0\n",
    "for i in range(0, len(list_scores10)):\n",
    "    temp = list_scores10[i]\n",
    "    if(is_power_of_two(temp)) == True:\n",
    "        p2 += 1"
   ]
  },
  {
   "cell_type": "code",
   "execution_count": 186,
   "metadata": {},
   "outputs": [
    {
     "data": {
      "text/plain": [
       "0.0751953125"
      ]
     },
     "execution_count": 186,
     "metadata": {},
     "output_type": "execute_result"
    }
   ],
   "source": [
    "p2/len(list_scores10)"
   ]
  },
  {
   "cell_type": "code",
   "execution_count": 270,
   "metadata": {},
   "outputs": [],
   "source": [
    "import random\n",
    "my_list = ['H']*2000000 + ['T']*2000000"
   ]
  },
  {
   "cell_type": "code",
   "execution_count": 271,
   "metadata": {},
   "outputs": [],
   "source": [
    "random.shuffle(my_list)"
   ]
  },
  {
   "cell_type": "code",
   "execution_count": 272,
   "metadata": {},
   "outputs": [],
   "source": [
    "select = list(range(len(my_list)))\n",
    "select = select[0::5]"
   ]
  },
  {
   "cell_type": "code",
   "execution_count": 273,
   "metadata": {},
   "outputs": [],
   "source": [
    "list_scores_rand = []\n",
    "for i in select:\n",
    "    toss = my_list[i:i+5]\n",
    "    score = 0\n",
    "    for j in range(0, len(toss)):\n",
    "        if toss[j] == 'H':\n",
    "            score += 1\n",
    "        else:\n",
    "            score *= 2\n",
    "    list_scores_rand.append(score)"
   ]
  },
  {
   "cell_type": "code",
   "execution_count": 274,
   "metadata": {},
   "outputs": [
    {
     "data": {
      "text/plain": [
       "800000"
      ]
     },
     "execution_count": 274,
     "metadata": {},
     "output_type": "execute_result"
    }
   ],
   "source": [
    "len(list_scores_rand)"
   ]
  },
  {
   "cell_type": "code",
   "execution_count": 275,
   "metadata": {},
   "outputs": [
    {
     "data": {
      "text/plain": [
       "6.59162625"
      ]
     },
     "execution_count": 275,
     "metadata": {},
     "output_type": "execute_result"
    }
   ],
   "source": [
    "sum(list_scores_rand)/len(select)"
   ]
  },
  {
   "cell_type": "code",
   "execution_count": 276,
   "metadata": {},
   "outputs": [
    {
     "data": {
      "text/plain": [
       "3.791677350502141"
      ]
     },
     "execution_count": 276,
     "metadata": {},
     "output_type": "execute_result"
    }
   ],
   "source": [
    "np.std(list_scores_rand)"
   ]
  },
  {
   "cell_type": "code",
   "execution_count": 404,
   "metadata": {},
   "outputs": [],
   "source": [
    "def flip(p):\n",
    "    return 'H' if random.random() < p else 'T'"
   ]
  },
  {
   "cell_type": "code",
   "execution_count": 405,
   "metadata": {},
   "outputs": [],
   "source": [
    "list_tosses_biased = []\n",
    "for i in range(0,100000):\n",
    "    toss = []\n",
    "    for j in range(0,10):\n",
    "        temp = flip(2/3)\n",
    "        toss.append(temp)\n",
    "    list_tosses_biased.append(toss)"
   ]
  },
  {
   "cell_type": "code",
   "execution_count": 406,
   "metadata": {},
   "outputs": [
    {
     "data": {
      "text/plain": [
       "100000"
      ]
     },
     "execution_count": 406,
     "metadata": {},
     "output_type": "execute_result"
    }
   ],
   "source": [
    "len(list_tosses_biased)"
   ]
  },
  {
   "cell_type": "code",
   "execution_count": 416,
   "metadata": {},
   "outputs": [
    {
     "data": {
      "text/plain": [
       "['T', 'H', 'H', 'T', 'H', 'H', 'H', 'H', 'H', 'T']"
      ]
     },
     "execution_count": 416,
     "metadata": {},
     "output_type": "execute_result"
    }
   ],
   "source": [
    "list_tosses_biased[0]"
   ]
  },
  {
   "cell_type": "code",
   "execution_count": 407,
   "metadata": {},
   "outputs": [],
   "source": [
    "flat_list = [item for sublist in list_tosses_biased for item in sublist]"
   ]
  },
  {
   "cell_type": "code",
   "execution_count": 408,
   "metadata": {},
   "outputs": [
    {
     "data": {
      "text/plain": [
       "(666057, 333943)"
      ]
     },
     "execution_count": 408,
     "metadata": {},
     "output_type": "execute_result"
    }
   ],
   "source": [
    "flat_list.count('H'),flat_list.count('T'),"
   ]
  },
  {
   "cell_type": "code",
   "execution_count": 417,
   "metadata": {},
   "outputs": [],
   "source": [
    "list_scores_biased = []\n",
    "for i in list_tosses_biased:\n",
    "    toss = i\n",
    "    score = 0\n",
    "    for j in range(0, len(toss)):\n",
    "            if toss[j] == 'H':\n",
    "                score += 1\n",
    "            else:\n",
    "                score *= 2\n",
    "    list_scores_biased.append(score)"
   ]
  },
  {
   "cell_type": "code",
   "execution_count": 418,
   "metadata": {},
   "outputs": [
    {
     "data": {
      "text/plain": [
       "[18, 18, 8, 102, 18, 16, 19, 46, 56, 15]"
      ]
     },
     "execution_count": 418,
     "metadata": {},
     "output_type": "execute_result"
    }
   ],
   "source": [
    "list_scores_biased[0:10]"
   ]
  },
  {
   "cell_type": "code",
   "execution_count": 419,
   "metadata": {},
   "outputs": [
    {
     "data": {
      "text/plain": [
       "33.62759"
      ]
     },
     "execution_count": 419,
     "metadata": {},
     "output_type": "execute_result"
    }
   ],
   "source": [
    "sum(list_scores_biased)/len(list_scores_biased)"
   ]
  },
  {
   "cell_type": "code",
   "execution_count": 420,
   "metadata": {},
   "outputs": [
    {
     "data": {
      "text/plain": [
       "29.023637621633508"
      ]
     },
     "execution_count": 420,
     "metadata": {},
     "output_type": "execute_result"
    }
   ],
   "source": [
    "np.std(list_scores_biased)"
   ]
  },
  {
   "cell_type": "code",
   "execution_count": 431,
   "metadata": {},
   "outputs": [],
   "source": [
    "y = [0]\n",
    "for i in range(0,15):\n",
    "    x=y\n",
    "    y=[n+1 for n in x]\n",
    "    z=[2*n for n in x]\n",
    "    y.extend(z)"
   ]
  },
  {
   "cell_type": "code",
   "execution_count": 443,
   "metadata": {},
   "outputs": [
    {
     "data": {
      "text/plain": [
       "436.8938903808594"
      ]
     },
     "execution_count": 443,
     "metadata": {},
     "output_type": "execute_result"
    }
   ],
   "source": [
    "sum(y)/(2**15)"
   ]
  },
  {
   "cell_type": "code",
   "execution_count": 452,
   "metadata": {},
   "outputs": [],
   "source": [
    "all_tosses = []\n",
    "for i in range(1,10+1):\n",
    "    toss_prob = []\n",
    "    for j in range(0,100000):\n",
    "        toss = []\n",
    "        for h in range(0,10):\n",
    "            temp = flip(i/10)\n",
    "            toss.append(temp)\n",
    "        toss_prob.append(toss)\n",
    "    all_tosses.append(toss_prob)"
   ]
  },
  {
   "cell_type": "code",
   "execution_count": 462,
   "metadata": {},
   "outputs": [
    {
     "data": {
      "text/plain": [
       "100000"
      ]
     },
     "execution_count": 462,
     "metadata": {},
     "output_type": "execute_result"
    }
   ],
   "source": [
    "len(all_tosses[0])"
   ]
  },
  {
   "cell_type": "code",
   "execution_count": 480,
   "metadata": {},
   "outputs": [],
   "source": [
    "scores_all = []\n",
    "for i in range(0, len(all_tosses)):\n",
    "    temp = all_tosses[i]\n",
    "    list_scores = []\n",
    "    for j in range(0,len(temp)):\n",
    "        temp2 = temp[j]\n",
    "        score = 0\n",
    "        for h in range(0, len(temp2)):\n",
    "            if temp2[h] == 'H':\n",
    "                score += 1\n",
    "            else:\n",
    "                score *= 2 \n",
    "        list_scores.append(score)\n",
    "    scores_all.append(list_scores)"
   ]
  },
  {
   "cell_type": "code",
   "execution_count": 497,
   "metadata": {},
   "outputs": [],
   "source": [
    "sum_scores = []\n",
    "for i in range(0, len(scores_all)):\n",
    "    temp = scores_all[i]\n",
    "    sum_scores.append(sum(temp)/len(temp))"
   ]
  },
  {
   "cell_type": "code",
   "execution_count": 505,
   "metadata": {},
   "outputs": [
    {
     "data": {
      "text/plain": [
       "[68.92561,\n",
       " 89.26824,\n",
       " 86.27258,\n",
       " 72.56121,\n",
       " 56.31351,\n",
       " 41.79489,\n",
       " 29.75875,\n",
       " 20.72303,\n",
       " 14.37102,\n",
       " 10.0]"
      ]
     },
     "execution_count": 505,
     "metadata": {},
     "output_type": "execute_result"
    }
   ],
   "source": [
    "sum_scores"
   ]
  },
  {
   "cell_type": "code",
   "execution_count": 518,
   "metadata": {},
   "outputs": [],
   "source": [
    "values = np.arange(0.1, 0.4, 0.01).tolist()"
   ]
  },
  {
   "cell_type": "code",
   "execution_count": 521,
   "metadata": {},
   "outputs": [],
   "source": [
    "all_tosses = []\n",
    "for i in values:\n",
    "    toss_prob = []\n",
    "    for j in range(0,100000):\n",
    "        toss = []\n",
    "        for h in range(0,10):\n",
    "            temp = flip(i)\n",
    "            toss.append(temp)\n",
    "        toss_prob.append(toss)\n",
    "    all_tosses.append(toss_prob)"
   ]
  },
  {
   "cell_type": "code",
   "execution_count": 522,
   "metadata": {},
   "outputs": [
    {
     "data": {
      "text/plain": [
       "31"
      ]
     },
     "execution_count": 522,
     "metadata": {},
     "output_type": "execute_result"
    }
   ],
   "source": [
    "len(all_tosses)"
   ]
  },
  {
   "cell_type": "code",
   "execution_count": 532,
   "metadata": {},
   "outputs": [
    {
     "data": {
      "text/plain": [
       "['T', 'T', 'T', 'T', 'H', 'H', 'H', 'H', 'T', 'T']"
      ]
     },
     "execution_count": 532,
     "metadata": {},
     "output_type": "execute_result"
    }
   ],
   "source": [
    "all_tosses[30][0]"
   ]
  },
  {
   "cell_type": "code",
   "execution_count": 523,
   "metadata": {},
   "outputs": [],
   "source": [
    "scores_all = []\n",
    "for i in range(0, len(all_tosses)):\n",
    "    temp = all_tosses[i]\n",
    "    list_scores = []\n",
    "    for j in range(0,len(temp)):\n",
    "        temp2 = temp[j]\n",
    "        score = 0\n",
    "        for h in range(0, len(temp2)):\n",
    "            if temp2[h] == 'H':\n",
    "                score += 1\n",
    "            else:\n",
    "                score *= 2 \n",
    "        list_scores.append(score)\n",
    "    scores_all.append(list_scores)"
   ]
  },
  {
   "cell_type": "code",
   "execution_count": 524,
   "metadata": {},
   "outputs": [],
   "source": [
    "sum_scores = []\n",
    "for i in range(0, len(scores_all)):\n",
    "    temp = scores_all[i]\n",
    "    sum_scores.append(sum(temp)/len(temp))"
   ]
  },
  {
   "cell_type": "code",
   "execution_count": 525,
   "metadata": {},
   "outputs": [
    {
     "data": {
      "text/plain": [
       "[67.76629,\n",
       " 72.09787,\n",
       " 74.5334,\n",
       " 77.56403,\n",
       " 80.39127,\n",
       " 82.29685,\n",
       " 84.06536,\n",
       " 86.13684,\n",
       " 87.62027,\n",
       " 88.02183,\n",
       " 89.04181,\n",
       " 89.61656,\n",
       " 89.41184,\n",
       " 89.12513,\n",
       " 89.7725,\n",
       " 89.59255,\n",
       " 89.07216,\n",
       " 88.51481,\n",
       " 87.59871,\n",
       " 87.02911,\n",
       " 85.86751,\n",
       " 85.11266,\n",
       " 83.82657,\n",
       " 82.32342,\n",
       " 81.60401,\n",
       " 79.97797,\n",
       " 79.02002,\n",
       " 76.97992,\n",
       " 75.50411,\n",
       " 74.07895,\n",
       " 72.97591]"
      ]
     },
     "execution_count": 525,
     "metadata": {},
     "output_type": "execute_result"
    }
   ],
   "source": [
    "sum_scores"
   ]
  },
  {
   "cell_type": "code",
   "execution_count": 533,
   "metadata": {},
   "outputs": [
    {
     "data": {
      "text/plain": [
       "89.7725"
      ]
     },
     "execution_count": 533,
     "metadata": {},
     "output_type": "execute_result"
    }
   ],
   "source": [
    "max(sum_scores)"
   ]
  },
  {
   "cell_type": "code",
   "execution_count": 540,
   "metadata": {},
   "outputs": [],
   "source": [
    "d = {'Probability': values, 'Scores': sum_scores}"
   ]
  },
  {
   "cell_type": "code",
   "execution_count": 544,
   "metadata": {},
   "outputs": [],
   "source": [
    "df = pd.DataFrame(d)"
   ]
  },
  {
   "cell_type": "code",
   "execution_count": 563,
   "metadata": {},
   "outputs": [
    {
     "name": "stdout",
     "output_type": "stream",
     "text": [
      "    Probability   Scores\n",
      "14         0.24  89.7725\n"
     ]
    }
   ],
   "source": [
    "print(df[df.Scores == df.Scores.max()]) "
   ]
  }
 ],
 "metadata": {
  "kernelspec": {
   "display_name": "Python 3",
   "language": "python",
   "name": "python3"
  },
  "language_info": {
   "codemirror_mode": {
    "name": "ipython",
    "version": 3
   },
   "file_extension": ".py",
   "mimetype": "text/x-python",
   "name": "python",
   "nbconvert_exporter": "python",
   "pygments_lexer": "ipython3",
   "version": "3.7.6"
  }
 },
 "nbformat": 4,
 "nbformat_minor": 4
}
